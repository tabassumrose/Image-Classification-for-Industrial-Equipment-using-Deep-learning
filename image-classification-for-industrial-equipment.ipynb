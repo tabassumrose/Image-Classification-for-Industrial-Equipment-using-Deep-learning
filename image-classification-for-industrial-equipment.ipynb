{
 "cells": [
  {
   "cell_type": "code",
   "execution_count": 1,
   "id": "620f153a",
   "metadata": {
    "execution": {
     "iopub.execute_input": "2025-04-14T18:54:01.480338Z",
     "iopub.status.busy": "2025-04-14T18:54:01.480017Z",
     "iopub.status.idle": "2025-04-14T18:54:22.297473Z",
     "shell.execute_reply": "2025-04-14T18:54:22.296361Z"
    },
    "papermill": {
     "duration": 20.824597,
     "end_time": "2025-04-14T18:54:22.299372",
     "exception": false,
     "start_time": "2025-04-14T18:54:01.474775",
     "status": "completed"
    },
    "tags": []
   },
   "outputs": [
    {
     "name": "stderr",
     "output_type": "stream",
     "text": [
      "2025-04-14 18:54:03.740001: E external/local_xla/xla/stream_executor/cuda/cuda_fft.cc:477] Unable to register cuFFT factory: Attempting to register factory for plugin cuFFT when one has already been registered\n",
      "WARNING: All log messages before absl::InitializeLog() is called are written to STDERR\n",
      "E0000 00:00:1744656844.073007      13 cuda_dnn.cc:8310] Unable to register cuDNN factory: Attempting to register factory for plugin cuDNN when one has already been registered\n",
      "E0000 00:00:1744656844.155621      13 cuda_blas.cc:1418] Unable to register cuBLAS factory: Attempting to register factory for plugin cuBLAS when one has already been registered\n"
     ]
    }
   ],
   "source": [
    "import os\n",
    "import numpy as np\n",
    "import keras\n",
    "from tensorflow.keras.preprocessing.image import ImageDataGenerator\n",
    "from sklearn.model_selection import train_test_split\n",
    "from tensorflow.keras.models import Sequential, load_model\n",
    "from tensorflow.keras.layers import Conv2D, MaxPooling2D, Flatten, Dense, Dropout, BatchNormalization\n",
    "from tensorflow.keras.callbacks import EarlyStopping, ReduceLROnPlateau\n",
    "import matplotlib.pyplot as plt"
   ]
  },
  {
   "cell_type": "code",
   "execution_count": 2,
   "id": "6ee3a02d",
   "metadata": {
    "execution": {
     "iopub.execute_input": "2025-04-14T18:54:22.308274Z",
     "iopub.status.busy": "2025-04-14T18:54:22.307659Z",
     "iopub.status.idle": "2025-04-14T18:54:22.312612Z",
     "shell.execute_reply": "2025-04-14T18:54:22.311768Z"
    },
    "papermill": {
     "duration": 0.010868,
     "end_time": "2025-04-14T18:54:22.314110",
     "exception": false,
     "start_time": "2025-04-14T18:54:22.303242",
     "status": "completed"
    },
    "tags": []
   },
   "outputs": [],
   "source": [
    "# Define the path to your dataset\n",
    "dataset_directory = '/kaggle/input/dagm-2007-competition-dataset-optical-inspection/DAGM_KaggleUpload'"
   ]
  },
  {
   "cell_type": "code",
   "execution_count": 3,
   "id": "ad6fcb2d",
   "metadata": {
    "execution": {
     "iopub.execute_input": "2025-04-14T18:54:22.322020Z",
     "iopub.status.busy": "2025-04-14T18:54:22.321685Z",
     "iopub.status.idle": "2025-04-14T18:54:22.326164Z",
     "shell.execute_reply": "2025-04-14T18:54:22.325285Z"
    },
    "papermill": {
     "duration": 0.010206,
     "end_time": "2025-04-14T18:54:22.327676",
     "exception": false,
     "start_time": "2025-04-14T18:54:22.317470",
     "status": "completed"
    },
    "tags": []
   },
   "outputs": [],
   "source": [
    "# Setting up parameters\n",
    "img_width, img_height = 150, 150  \n",
    "batch_size = 32"
   ]
  },
  {
   "cell_type": "code",
   "execution_count": 4,
   "id": "f728e98f",
   "metadata": {
    "execution": {
     "iopub.execute_input": "2025-04-14T18:54:22.335802Z",
     "iopub.status.busy": "2025-04-14T18:54:22.335326Z",
     "iopub.status.idle": "2025-04-14T18:54:22.340542Z",
     "shell.execute_reply": "2025-04-14T18:54:22.339678Z"
    },
    "papermill": {
     "duration": 0.010771,
     "end_time": "2025-04-14T18:54:22.342046",
     "exception": false,
     "start_time": "2025-04-14T18:54:22.331275",
     "status": "completed"
    },
    "tags": []
   },
   "outputs": [],
   "source": [
    "# Data Augmentation\n",
    "datagen = ImageDataGenerator(\n",
    "    rescale=1./255,\n",
    "    rotation_range=20,\n",
    "    width_shift_range=0.1,\n",
    "    height_shift_range=0.1,\n",
    "    zoom_range=0.2,\n",
    "    shear_range=0.2,\n",
    "    horizontal_flip=True,\n",
    "    validation_split=0.2\n",
    ")\n"
   ]
  },
  {
   "cell_type": "code",
   "execution_count": 5,
   "id": "f3ae83a4",
   "metadata": {
    "execution": {
     "iopub.execute_input": "2025-04-14T18:54:22.352013Z",
     "iopub.status.busy": "2025-04-14T18:54:22.351700Z",
     "iopub.status.idle": "2025-04-14T18:54:33.614508Z",
     "shell.execute_reply": "2025-04-14T18:54:33.613140Z"
    },
    "papermill": {
     "duration": 11.271038,
     "end_time": "2025-04-14T18:54:33.616330",
     "exception": false,
     "start_time": "2025-04-14T18:54:22.345292",
     "status": "completed"
    },
    "tags": []
   },
   "outputs": [
    {
     "name": "stdout",
     "output_type": "stream",
     "text": [
      "Found 14560 images belonging to 10 classes.\n",
      "Found 3640 images belonging to 10 classes.\n"
     ]
    }
   ],
   "source": [
    "# Train & Validation Generation\n",
    "train_generator = datagen.flow_from_directory(\n",
    "    dataset_directory,\n",
    "    target_size=(img_width, img_height),\n",
    "    batch_size=batch_size,\n",
    "    class_mode='binary',\n",
    "    subset='training'\n",
    ")\n",
    "\n",
    "validation_generator = datagen.flow_from_directory(\n",
    "    dataset_directory,\n",
    "    target_size=(img_width, img_height),\n",
    "    batch_size=batch_size,\n",
    "    class_mode='binary',\n",
    "    subset='validation'\n",
    ")"
   ]
  },
  {
   "cell_type": "code",
   "execution_count": 6,
   "id": "6476b70a",
   "metadata": {
    "execution": {
     "iopub.execute_input": "2025-04-14T18:54:33.624404Z",
     "iopub.status.busy": "2025-04-14T18:54:33.624081Z",
     "iopub.status.idle": "2025-04-14T18:54:33.859842Z",
     "shell.execute_reply": "2025-04-14T18:54:33.858806Z"
    },
    "papermill": {
     "duration": 0.241422,
     "end_time": "2025-04-14T18:54:33.861351",
     "exception": false,
     "start_time": "2025-04-14T18:54:33.619929",
     "status": "completed"
    },
    "tags": []
   },
   "outputs": [
    {
     "name": "stderr",
     "output_type": "stream",
     "text": [
      "/usr/local/lib/python3.11/dist-packages/keras/src/layers/convolutional/base_conv.py:107: UserWarning: Do not pass an `input_shape`/`input_dim` argument to a layer. When using Sequential models, prefer using an `Input(shape)` object as the first layer in the model instead.\n",
      "  super().__init__(activity_regularizer=activity_regularizer, **kwargs)\n",
      "2025-04-14 18:54:33.640047: E external/local_xla/xla/stream_executor/cuda/cuda_driver.cc:152] failed call to cuInit: INTERNAL: CUDA error: Failed call to cuInit: UNKNOWN ERROR (303)\n"
     ]
    }
   ],
   "source": [
    "#MODEL ARCHITECTURE\n",
    "model = Sequential([\n",
    "    Conv2D(32, (3, 3), activation='relu', input_shape=(img_width, img_height, 3)),\n",
    "    BatchNormalization(),\n",
    "    MaxPooling2D(2, 2),\n",
    "\n",
    "    Conv2D(64, (3, 3), activation='relu'),\n",
    "    BatchNormalization(),\n",
    "    MaxPooling2D(2, 2),\n",
    "\n",
    "    Conv2D(128, (3, 3), activation='relu'),\n",
    "    BatchNormalization(),\n",
    "    MaxPooling2D(2, 2),\n",
    "    Flatten(),\n",
    "    Dense(256, activation='relu'),\n",
    "    Dropout(0.5),\n",
    "    Dense(1, activation='sigmoid')\n",
    "])"
   ]
  },
  {
   "cell_type": "code",
   "execution_count": 7,
   "id": "6deda15a",
   "metadata": {
    "execution": {
     "iopub.execute_input": "2025-04-14T18:54:33.874150Z",
     "iopub.status.busy": "2025-04-14T18:54:33.873799Z",
     "iopub.status.idle": "2025-04-14T18:54:33.890261Z",
     "shell.execute_reply": "2025-04-14T18:54:33.888849Z"
    },
    "papermill": {
     "duration": 0.023146,
     "end_time": "2025-04-14T18:54:33.892216",
     "exception": false,
     "start_time": "2025-04-14T18:54:33.869070",
     "status": "completed"
    },
    "tags": []
   },
   "outputs": [],
   "source": [
    "# Compile model\n",
    "model.compile(loss='binary_crossentropy',\n",
    "              optimizer='adam',\n",
    "              metrics=['accuracy'])"
   ]
  },
  {
   "cell_type": "code",
   "execution_count": 8,
   "id": "d65b448f",
   "metadata": {
    "execution": {
     "iopub.execute_input": "2025-04-14T18:54:33.901470Z",
     "iopub.status.busy": "2025-04-14T18:54:33.901127Z",
     "iopub.status.idle": "2025-04-14T18:54:33.906471Z",
     "shell.execute_reply": "2025-04-14T18:54:33.905335Z"
    },
    "papermill": {
     "duration": 0.011803,
     "end_time": "2025-04-14T18:54:33.908228",
     "exception": false,
     "start_time": "2025-04-14T18:54:33.896425",
     "status": "completed"
    },
    "tags": []
   },
   "outputs": [],
   "source": [
    "# Callbacks for early stopping and learning rate reduction\n",
    "callbacks = [\n",
    "    EarlyStopping(monitor='val_loss', patience=5, restore_best_weights=True),\n",
    "    ReduceLROnPlateau(monitor='val_loss', factor=0.3, patience=2, verbose=1)\n",
    "]"
   ]
  },
  {
   "cell_type": "code",
   "execution_count": 9,
   "id": "5679c28c",
   "metadata": {
    "execution": {
     "iopub.execute_input": "2025-04-14T18:54:33.916819Z",
     "iopub.status.busy": "2025-04-14T18:54:33.916465Z",
     "iopub.status.idle": "2025-04-14T21:47:51.280994Z",
     "shell.execute_reply": "2025-04-14T21:47:51.279333Z"
    },
    "papermill": {
     "duration": 10397.428051,
     "end_time": "2025-04-14T21:47:51.339996",
     "exception": false,
     "start_time": "2025-04-14T18:54:33.911945",
     "status": "completed"
    },
    "tags": []
   },
   "outputs": [
    {
     "name": "stdout",
     "output_type": "stream",
     "text": [
      "Epoch 1/30\n"
     ]
    },
    {
     "name": "stderr",
     "output_type": "stream",
     "text": [
      "/usr/local/lib/python3.11/dist-packages/keras/src/trainers/data_adapters/py_dataset_adapter.py:122: UserWarning: Your `PyDataset` class should call `super().__init__(**kwargs)` in its constructor. `**kwargs` can include `workers`, `use_multiprocessing`, `max_queue_size`. Do not pass these arguments to `fit()`, as they will be ignored.\n",
      "  self._warn_if_super_not_called()\n"
     ]
    },
    {
     "name": "stdout",
     "output_type": "stream",
     "text": [
      "\u001b[1m455/455\u001b[0m \u001b[32m━━━━━━━━━━━━━━━━━━━━\u001b[0m\u001b[37m\u001b[0m \u001b[1m721s\u001b[0m 2s/step - accuracy: 0.1463 - loss: -2804829.5000 - val_accuracy: 0.1433 - val_loss: -6037354.5000 - learning_rate: 0.0010\n",
      "Epoch 2/30\n"
     ]
    },
    {
     "name": "stderr",
     "output_type": "stream",
     "text": [
      "/usr/lib/python3.11/contextlib.py:158: UserWarning: Your input ran out of data; interrupting training. Make sure that your dataset or generator can generate at least `steps_per_epoch * epochs` batches. You may need to use the `.repeat()` function when building your dataset.\n",
      "  self.gen.throw(typ, value, traceback)\n"
     ]
    },
    {
     "name": "stdout",
     "output_type": "stream",
     "text": [
      "\u001b[1m455/455\u001b[0m \u001b[32m━━━━━━━━━━━━━━━━━━━━\u001b[0m\u001b[37m\u001b[0m \u001b[1m0s\u001b[0m 1ms/step - accuracy: 0.0000e+00 - loss: 0.0000e+00 - val_accuracy: 0.0833 - val_loss: -6091421.5000 - learning_rate: 0.0010\n",
      "Epoch 3/30\n",
      "\u001b[1m455/455\u001b[0m \u001b[32m━━━━━━━━━━━━━━━━━━━━\u001b[0m\u001b[37m\u001b[0m \u001b[1m681s\u001b[0m 1s/step - accuracy: 0.1434 - loss: -82783560.0000 - val_accuracy: 0.1413 - val_loss: -250114992.0000 - learning_rate: 0.0010\n",
      "Epoch 4/30\n",
      "\u001b[1m455/455\u001b[0m \u001b[32m━━━━━━━━━━━━━━━━━━━━\u001b[0m\u001b[37m\u001b[0m \u001b[1m0s\u001b[0m 699us/step - accuracy: 0.0000e+00 - loss: 0.0000e+00 - val_accuracy: 0.3750 - val_loss: -198615296.0000 - learning_rate: 0.0010\n",
      "Epoch 5/30\n",
      "\u001b[1m455/455\u001b[0m \u001b[32m━━━━━━━━━━━━━━━━━━━━\u001b[0m\u001b[37m\u001b[0m \u001b[1m683s\u001b[0m 1s/step - accuracy: 0.1399 - loss: -439133376.0000 - val_accuracy: 0.1427 - val_loss: -799160704.0000 - learning_rate: 0.0010\n",
      "Epoch 6/30\n",
      "\u001b[1m455/455\u001b[0m \u001b[32m━━━━━━━━━━━━━━━━━━━━\u001b[0m\u001b[37m\u001b[0m \u001b[1m0s\u001b[0m 745us/step - accuracy: 0.0000e+00 - loss: 0.0000e+00 - val_accuracy: 0.1667 - val_loss: -822205696.0000 - learning_rate: 0.0010\n",
      "Epoch 7/30\n",
      "\u001b[1m455/455\u001b[0m \u001b[32m━━━━━━━━━━━━━━━━━━━━\u001b[0m\u001b[37m\u001b[0m \u001b[1m687s\u001b[0m 2s/step - accuracy: 0.1377 - loss: -1237358976.0000 - val_accuracy: 0.1430 - val_loss: -2274040576.0000 - learning_rate: 0.0010\n",
      "Epoch 8/30\n",
      "\u001b[1m455/455\u001b[0m \u001b[32m━━━━━━━━━━━━━━━━━━━━\u001b[0m\u001b[37m\u001b[0m \u001b[1m0s\u001b[0m 785us/step - accuracy: 0.0000e+00 - loss: 0.0000e+00 - val_accuracy: 0.1250 - val_loss: -3141298176.0000 - learning_rate: 0.0010\n",
      "Epoch 9/30\n",
      "\u001b[1m455/455\u001b[0m \u001b[32m━━━━━━━━━━━━━━━━━━━━\u001b[0m\u001b[37m\u001b[0m \u001b[1m687s\u001b[0m 2s/step - accuracy: 0.1412 - loss: -2587156736.0000 - val_accuracy: 0.1427 - val_loss: -4956849152.0000 - learning_rate: 0.0010\n",
      "Epoch 10/30\n",
      "\u001b[1m455/455\u001b[0m \u001b[32m━━━━━━━━━━━━━━━━━━━━\u001b[0m\u001b[37m\u001b[0m \u001b[1m0s\u001b[0m 937us/step - accuracy: 0.0000e+00 - loss: 0.0000e+00 - val_accuracy: 0.1667 - val_loss: -5006249984.0000 - learning_rate: 0.0010\n",
      "Epoch 11/30\n",
      "\u001b[1m455/455\u001b[0m \u001b[32m━━━━━━━━━━━━━━━━━━━━\u001b[0m\u001b[37m\u001b[0m \u001b[1m741s\u001b[0m 2s/step - accuracy: 0.1364 - loss: -4567944704.0000 - val_accuracy: 0.1438 - val_loss: -6911771648.0000 - learning_rate: 0.0010\n",
      "Epoch 12/30\n",
      "\u001b[1m455/455\u001b[0m \u001b[32m━━━━━━━━━━━━━━━━━━━━\u001b[0m\u001b[37m\u001b[0m \u001b[1m0s\u001b[0m 788us/step - accuracy: 0.0000e+00 - loss: 0.0000e+00 - val_accuracy: 0.0000e+00 - val_loss: -8007579136.0000 - learning_rate: 0.0010\n",
      "Epoch 13/30\n",
      "\u001b[1m455/455\u001b[0m \u001b[32m━━━━━━━━━━━━━━━━━━━━\u001b[0m\u001b[37m\u001b[0m \u001b[1m684s\u001b[0m 1s/step - accuracy: 0.1446 - loss: -7033675776.0000 - val_accuracy: 0.1430 - val_loss: -6884383232.0000 - learning_rate: 0.0010\n",
      "Epoch 14/30\n",
      "\u001b[1m455/455\u001b[0m \u001b[32m━━━━━━━━━━━━━━━━━━━━\u001b[0m\u001b[37m\u001b[0m \u001b[1m0s\u001b[0m 958us/step - accuracy: 0.0000e+00 - loss: 0.0000e+00 - val_accuracy: 0.1250 - val_loss: -8063225856.0000 - learning_rate: 0.0010\n",
      "Epoch 15/30\n",
      "\u001b[1m455/455\u001b[0m \u001b[32m━━━━━━━━━━━━━━━━━━━━\u001b[0m\u001b[37m\u001b[0m \u001b[1m689s\u001b[0m 2s/step - accuracy: 0.1476 - loss: -10412670976.0000 - val_accuracy: 0.1435 - val_loss: -16863737856.0000 - learning_rate: 0.0010\n",
      "Epoch 16/30\n",
      "\u001b[1m455/455\u001b[0m \u001b[32m━━━━━━━━━━━━━━━━━━━━\u001b[0m\u001b[37m\u001b[0m \u001b[1m0s\u001b[0m 834us/step - accuracy: 0.0000e+00 - loss: 0.0000e+00 - val_accuracy: 0.0417 - val_loss: -17422059520.0000 - learning_rate: 0.0010\n",
      "Epoch 17/30\n",
      "\u001b[1m455/455\u001b[0m \u001b[32m━━━━━━━━━━━━━━━━━━━━\u001b[0m\u001b[37m\u001b[0m \u001b[1m685s\u001b[0m 2s/step - accuracy: 0.1393 - loss: -14467553280.0000 - val_accuracy: 0.1435 - val_loss: -21963245568.0000 - learning_rate: 0.0010\n",
      "Epoch 18/30\n",
      "\u001b[1m455/455\u001b[0m \u001b[32m━━━━━━━━━━━━━━━━━━━━\u001b[0m\u001b[37m\u001b[0m \u001b[1m0s\u001b[0m 898us/step - accuracy: 0.0000e+00 - loss: 0.0000e+00 - val_accuracy: 0.0417 - val_loss: -23808000000.0000 - learning_rate: 0.0010\n",
      "Epoch 19/30\n",
      "\u001b[1m455/455\u001b[0m \u001b[32m━━━━━━━━━━━━━━━━━━━━\u001b[0m\u001b[37m\u001b[0m \u001b[1m685s\u001b[0m 2s/step - accuracy: 0.1424 - loss: -19062388736.0000 - val_accuracy: 0.1416 - val_loss: -15001330688.0000 - learning_rate: 0.0010\n",
      "Epoch 20/30\n",
      "\n",
      "Epoch 20: ReduceLROnPlateau reducing learning rate to 0.0003000000142492354.\n",
      "\u001b[1m455/455\u001b[0m \u001b[32m━━━━━━━━━━━━━━━━━━━━\u001b[0m\u001b[37m\u001b[0m \u001b[1m0s\u001b[0m 822us/step - accuracy: 0.0000e+00 - loss: 0.0000e+00 - val_accuracy: 0.3333 - val_loss: -12447230976.0000 - learning_rate: 0.0010\n",
      "Epoch 21/30\n",
      "\u001b[1m455/455\u001b[0m \u001b[32m━━━━━━━━━━━━━━━━━━━━\u001b[0m\u001b[37m\u001b[0m \u001b[1m689s\u001b[0m 2s/step - accuracy: 0.1407 - loss: -23734011904.0000 - val_accuracy: 0.1430 - val_loss: -28131596288.0000 - learning_rate: 3.0000e-04\n",
      "Epoch 22/30\n",
      "\u001b[1m455/455\u001b[0m \u001b[32m━━━━━━━━━━━━━━━━━━━━\u001b[0m\u001b[37m\u001b[0m \u001b[1m0s\u001b[0m 863us/step - accuracy: 0.0000e+00 - loss: 0.0000e+00 - val_accuracy: 0.1250 - val_loss: -33653786624.0000 - learning_rate: 3.0000e-04\n",
      "Epoch 23/30\n",
      "\u001b[1m455/455\u001b[0m \u001b[32m━━━━━━━━━━━━━━━━━━━━\u001b[0m\u001b[37m\u001b[0m \u001b[1m688s\u001b[0m 2s/step - accuracy: 0.1429 - loss: -25246543872.0000 - val_accuracy: 0.1433 - val_loss: -29936111616.0000 - learning_rate: 3.0000e-04\n",
      "Epoch 24/30\n",
      "\u001b[1m455/455\u001b[0m \u001b[32m━━━━━━━━━━━━━━━━━━━━\u001b[0m\u001b[37m\u001b[0m \u001b[1m0s\u001b[0m 911us/step - accuracy: 0.0000e+00 - loss: 0.0000e+00 - val_accuracy: 0.0833 - val_loss: -33925507072.0000 - learning_rate: 3.0000e-04\n",
      "Epoch 25/30\n",
      "\u001b[1m455/455\u001b[0m \u001b[32m━━━━━━━━━━━━━━━━━━━━\u001b[0m\u001b[37m\u001b[0m \u001b[1m695s\u001b[0m 2s/step - accuracy: 0.1412 - loss: -26970036224.0000 - val_accuracy: 0.1419 - val_loss: -28181643264.0000 - learning_rate: 3.0000e-04\n",
      "Epoch 26/30\n",
      "\n",
      "Epoch 26: ReduceLROnPlateau reducing learning rate to 9.000000427477062e-05.\n",
      "\u001b[1m455/455\u001b[0m \u001b[32m━━━━━━━━━━━━━━━━━━━━\u001b[0m\u001b[37m\u001b[0m \u001b[1m0s\u001b[0m 826us/step - accuracy: 0.0000e+00 - loss: 0.0000e+00 - val_accuracy: 0.2917 - val_loss: -28750977024.0000 - learning_rate: 3.0000e-04\n",
      "Epoch 27/30\n",
      "\u001b[1m455/455\u001b[0m \u001b[32m━━━━━━━━━━━━━━━━━━━━\u001b[0m\u001b[37m\u001b[0m \u001b[1m687s\u001b[0m 2s/step - accuracy: 0.1428 - loss: -28363900928.0000 - val_accuracy: 0.1424 - val_loss: -34430693376.0000 - learning_rate: 9.0000e-05\n",
      "Epoch 28/30\n",
      "\u001b[1m455/455\u001b[0m \u001b[32m━━━━━━━━━━━━━━━━━━━━\u001b[0m\u001b[37m\u001b[0m \u001b[1m0s\u001b[0m 823us/step - accuracy: 0.0000e+00 - loss: 0.0000e+00 - val_accuracy: 0.2083 - val_loss: -29805135872.0000 - learning_rate: 9.0000e-05\n",
      "Epoch 29/30\n",
      "\u001b[1m455/455\u001b[0m \u001b[32m━━━━━━━━━━━━━━━━━━━━\u001b[0m\u001b[37m\u001b[0m \u001b[1m0s\u001b[0m 1s/step - accuracy: 0.1430 - loss: -28824494080.0000\n",
      "Epoch 29: ReduceLROnPlateau reducing learning rate to 2.700000040931627e-05.\n",
      "\u001b[1m455/455\u001b[0m \u001b[32m━━━━━━━━━━━━━━━━━━━━\u001b[0m\u001b[37m\u001b[0m \u001b[1m688s\u001b[0m 2s/step - accuracy: 0.1430 - loss: -28824885248.0000 - val_accuracy: 0.1430 - val_loss: -30825170944.0000 - learning_rate: 9.0000e-05\n",
      "Epoch 30/30\n",
      "\u001b[1m455/455\u001b[0m \u001b[32m━━━━━━━━━━━━━━━━━━━━\u001b[0m\u001b[37m\u001b[0m \u001b[1m0s\u001b[0m 810us/step - accuracy: 0.0000e+00 - loss: 0.0000e+00 - val_accuracy: 0.1250 - val_loss: -30891661312.0000 - learning_rate: 2.7000e-05\n"
     ]
    }
   ],
   "source": [
    "# Train the model\n",
    "history = model.fit(\n",
    "    train_generator,\n",
    "    steps_per_epoch=train_generator.samples // batch_size,\n",
    "    epochs=30,  # More epochs for better convergence\n",
    "    validation_data=validation_generator,\n",
    "    validation_steps=validation_generator.samples // batch_size,\n",
    "    callbacks=callbacks\n",
    ")"
   ]
  },
  {
   "cell_type": "code",
   "execution_count": 10,
   "id": "de049924",
   "metadata": {
    "execution": {
     "iopub.execute_input": "2025-04-14T21:47:52.038514Z",
     "iopub.status.busy": "2025-04-14T21:47:52.038155Z",
     "iopub.status.idle": "2025-04-14T21:47:52.535770Z",
     "shell.execute_reply": "2025-04-14T21:47:52.534850Z"
    },
    "papermill": {
     "duration": 0.850649,
     "end_time": "2025-04-14T21:47:52.537621",
     "exception": false,
     "start_time": "2025-04-14T21:47:51.686972",
     "status": "completed"
    },
    "tags": []
   },
   "outputs": [],
   "source": [
    "#Save the model\n",
    "keras.saving.save_model(model, 'class1.keras')"
   ]
  },
  {
   "cell_type": "code",
   "execution_count": 11,
   "id": "d5cf32d4",
   "metadata": {
    "execution": {
     "iopub.execute_input": "2025-04-14T21:47:53.315371Z",
     "iopub.status.busy": "2025-04-14T21:47:53.315057Z",
     "iopub.status.idle": "2025-04-14T21:47:54.024708Z",
     "shell.execute_reply": "2025-04-14T21:47:54.023660Z"
    },
    "papermill": {
     "duration": 1.056929,
     "end_time": "2025-04-14T21:47:54.026355",
     "exception": false,
     "start_time": "2025-04-14T21:47:52.969426",
     "status": "completed"
    },
    "tags": []
   },
   "outputs": [],
   "source": [
    "# Path to saved model\n",
    "model_path = r\"class1.keras\"\n",
    "model = load_model(model_path)"
   ]
  },
  {
   "cell_type": "code",
   "execution_count": 12,
   "id": "4c245a96",
   "metadata": {
    "execution": {
     "iopub.execute_input": "2025-04-14T21:47:54.784301Z",
     "iopub.status.busy": "2025-04-14T21:47:54.783670Z",
     "iopub.status.idle": "2025-04-14T21:48:51.535920Z",
     "shell.execute_reply": "2025-04-14T21:48:51.534898Z"
    },
    "papermill": {
     "duration": 57.128152,
     "end_time": "2025-04-14T21:48:51.537414",
     "exception": false,
     "start_time": "2025-04-14T21:47:54.409262",
     "status": "completed"
    },
    "tags": []
   },
   "outputs": [
    {
     "name": "stdout",
     "output_type": "stream",
     "text": [
      "\u001b[1m113/113\u001b[0m \u001b[32m━━━━━━━━━━━━━━━━━━━━\u001b[0m\u001b[37m\u001b[0m \u001b[1m56s\u001b[0m 489ms/step - accuracy: 0.1398 - loss: -34315880448.0000\n"
     ]
    },
    {
     "data": {
      "text/plain": [
       "[-34522435584.0, 0.14242257177829742]"
      ]
     },
     "execution_count": 12,
     "metadata": {},
     "output_type": "execute_result"
    }
   ],
   "source": [
    "# Evaluate the model on validation set\n",
    "validation_generator.reset()\n",
    "model.evaluate(validation_generator, steps=validation_generator.samples // batch_size)\n"
   ]
  },
  {
   "cell_type": "code",
   "execution_count": 13,
   "id": "5a0d64b8",
   "metadata": {
    "execution": {
     "iopub.execute_input": "2025-04-14T21:48:52.329527Z",
     "iopub.status.busy": "2025-04-14T21:48:52.328563Z",
     "iopub.status.idle": "2025-04-14T21:48:52.333516Z",
     "shell.execute_reply": "2025-04-14T21:48:52.332666Z"
    },
    "papermill": {
     "duration": 0.352825,
     "end_time": "2025-04-14T21:48:52.335158",
     "exception": false,
     "start_time": "2025-04-14T21:48:51.982333",
     "status": "completed"
    },
    "tags": []
   },
   "outputs": [],
   "source": [
    "#Plot accuracy and loss over epochs\n",
    "acc = history.history['accuracy']\n",
    "val_acc = history.history['val_accuracy']\n",
    "loss = history.history['loss']\n",
    "val_loss = history.history['val_loss']\n",
    "\n",
    "epochs = range(len(acc))"
   ]
  },
  {
   "cell_type": "code",
   "execution_count": 14,
   "id": "04233b73",
   "metadata": {
    "execution": {
     "iopub.execute_input": "2025-04-14T21:48:53.033400Z",
     "iopub.status.busy": "2025-04-14T21:48:53.033094Z",
     "iopub.status.idle": "2025-04-14T21:48:53.314138Z",
     "shell.execute_reply": "2025-04-14T21:48:53.313184Z"
    },
    "papermill": {
     "duration": 0.63431,
     "end_time": "2025-04-14T21:48:53.315468",
     "exception": false,
     "start_time": "2025-04-14T21:48:52.681158",
     "status": "completed"
    },
    "tags": []
   },
   "outputs": [
    {
     "data": {
      "text/plain": [
       "<Figure size 640x480 with 0 Axes>"
      ]
     },
     "execution_count": 14,
     "metadata": {},
     "output_type": "execute_result"
    },
    {
     "data": {
      "image/png": "[encoded data removed]",
      "text/plain": [
       "<Figure size 640x480 with 1 Axes>"
      ]
     },
     "metadata": {},
     "output_type": "display_data"
    },
    {
     "data": {
      "text/plain": [
       "<Figure size 640x480 with 0 Axes>"
      ]
     },
     "metadata": {},
     "output_type": "display_data"
    }
   ],
   "source": [
    "# Plot accuracy\n",
    "plt.plot(epochs, acc, 'b', label='Training acc')\n",
    "plt.plot(epochs, val_acc, 'r', label='Validation acc')\n",
    "plt.title('Training and validation accuracy')\n",
    "plt.legend()\n",
    "\n",
    "plt.figure()"
   ]
  },
  {
   "cell_type": "code",
   "execution_count": 15,
   "id": "8d04964e",
   "metadata": {
    "execution": {
     "iopub.execute_input": "2025-04-14T21:48:54.023135Z",
     "iopub.status.busy": "2025-04-14T21:48:54.022690Z",
     "iopub.status.idle": "2025-04-14T21:48:54.233514Z",
     "shell.execute_reply": "2025-04-14T21:48:54.232591Z"
    },
    "papermill": {
     "duration": 0.563259,
     "end_time": "2025-04-14T21:48:54.235322",
     "exception": false,
     "start_time": "2025-04-14T21:48:53.672063",
     "status": "completed"
    },
    "tags": []
   },
   "outputs": [
    {
     "data": {
      "image/png": "[encoded data removed]",
      "text/plain": [
       "<Figure size 640x480 with 1 Axes>"
      ]
     },
     "metadata": {},
     "output_type": "display_data"
    }
   ],
   "source": [
    "# Plot loss\n",
    "plt.plot(epochs, loss, 'b', label='Training loss')\n",
    "plt.plot(epochs, val_loss, 'r', label='Validation loss')\n",
    "plt.title('Training and validation loss')\n",
    "plt.legend()\n",
    "\n",
    "plt.show()"
   ]
  }
 ],
 "metadata": {
  "kaggle": {
   "accelerator": "none",
   "dataSources": [
    {
     "datasetId": 236114,
     "sourceId": 502246,
     "sourceType": "datasetVersion"
    }
   ],
   "dockerImageVersionId": 31012,
   "isGpuEnabled": false,
   "isInternetEnabled": true,
   "language": "python",
   "sourceType": "notebook"
  },
  "kernelspec": {
   "display_name": "Python 3",
   "language": "python",
   "name": "python3"
  },
  "language_info": {
   "codemirror_mode": {
    "name": "ipython",
    "version": 3
   },
   "file_extension": ".py",
   "mimetype": "text/x-python",
   "name": "python",
   "nbconvert_exporter": "python",
   "pygments_lexer": "ipython3",
   "version": "3.11.11"
  },
  "papermill": {
   "default_parameters": {},
   "duration": 10500.995867,
   "end_time": "2025-04-14T21:48:57.564958",
   "environment_variables": {},
   "exception": null,
   "input_path": "__notebook__.ipynb",
   "output_path": "__notebook__.ipynb",
   "parameters": {},
   "start_time": "2025-04-14T18:53:56.569091",
   "version": "2.6.0"
  }
 },
 "nbformat": 4,
 "nbformat_minor": 5
}
